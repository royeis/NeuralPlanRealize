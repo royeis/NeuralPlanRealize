{
 "cells": [
  {
   "cell_type": "markdown",
   "metadata": {},
   "source": [
    "## Training planner and realizer on DeepNLG data"
   ]
  },
  {
   "cell_type": "code",
   "execution_count": 1,
   "metadata": {},
   "outputs": [],
   "source": [
    "import torch\n",
    "from transformers import T5ForConditionalGeneration, T5Tokenizer, Trainer, TrainingArguments\n",
    "from DeepNLGDatasetReader import run_parser\n",
    "from Utils import PlannerDataset, RealizerDataset, T2TDataCollator, deepnlg_entry_to_examples\n",
    "\n",
    "DEVICE = 'cuda' if torch.cuda.is_available() else 'cpu'"
   ]
  },
  {
   "cell_type": "code",
   "execution_count": 2,
   "metadata": {},
   "outputs": [],
   "source": [
    "train_entries = run_parser('deepnlg/train')\n",
    "dev_entries = run_parser('deepnlg/dev')"
   ]
  },
  {
   "cell_type": "markdown",
   "metadata": {},
   "source": [
    "Prepare all satellite data needed for training"
   ]
  },
  {
   "cell_type": "code",
   "execution_count": 3,
   "metadata": {},
   "outputs": [],
   "source": [
    "train_examples = []\n",
    "dev_examples = []\n",
    "\n",
    "for entry in train_entries:\n",
    "    train_examples.extend(deepnlg_entry_to_examples(entry))\n",
    "\n",
    "for entry in dev_entries:\n",
    "    dev_examples.extend(deepnlg_entry_to_examples(entry))"
   ]
  },
  {
   "cell_type": "markdown",
   "metadata": {},
   "source": [
    "A single example with all relevant metadata"
   ]
  },
  {
   "cell_type": "code",
   "execution_count": 4,
   "metadata": {},
   "outputs": [
    {
     "data": {
      "text/plain": [
       "{'category': 'ComicsCharacter',\n",
       " 'eid': 'Id1',\n",
       " 'size': '4',\n",
       " 'triples_map': {0: '<S> Arion_(comicsCharacter) <P> creator <O> Jan_Duursema',\n",
       "  1: '<S> Jan_Duursema <P> award <O> Eisner_Award',\n",
       "  2: '<S> Arion_(comicsCharacter) <P> alternativeName <O> \"Ahriahn\"',\n",
       "  3: '<S> Arion_(comicsCharacter) <P> creator <O> Paul_Kupperberg'},\n",
       " 'planner_input': '<S> Arion_(comicsCharacter) <P> creator <O> Jan_Duursema <S> Jan_Duursema <P> award <O> Eisner_Award <S> Arion_(comicsCharacter) <P> alternativeName <O> \"Ahriahn\" <S> Arion_(comicsCharacter) <P> creator <O> Paul_Kupperberg',\n",
       " 'lid': 'Id1',\n",
       " 'text': \"Arion (also known as Ahri'ahn) is a comic character created by Paul Kupperberg and Jan Duursema, who won the Eisner award.\",\n",
       " 'plan': 'S 2 3 0 1',\n",
       " 'realizer_input': '<sentence> <S> Arion_(comicsCharacter) <P> alternativeName <O> \"Ahriahn\" <S> Arion_(comicsCharacter) <P> creator <O> Paul_Kupperberg <S> Arion_(comicsCharacter) <P> creator <O> Jan_Duursema <S> Jan_Duursema <P> award <O> Eisner_Award'}"
      ]
     },
     "execution_count": 4,
     "metadata": {},
     "output_type": "execute_result"
    }
   ],
   "source": [
    "train_examples[0]"
   ]
  },
  {
   "cell_type": "markdown",
   "metadata": {},
   "source": [
    "### Planner\n",
    "Load pretrained model and configure tokenizer"
   ]
  },
  {
   "cell_type": "code",
   "execution_count": 5,
   "metadata": {},
   "outputs": [
    {
     "data": {
      "text/plain": [
       "3"
      ]
     },
     "execution_count": 5,
     "metadata": {},
     "output_type": "execute_result"
    }
   ],
   "source": [
    "planner = T5ForConditionalGeneration.from_pretrained('t5-base').to(DEVICE)\n",
    "planner_tokenizer = T5Tokenizer.from_pretrained('t5-base')\n",
    "planner_tokenizer.add_tokens(['<S>', '<P>', '<O>'])"
   ]
  },
  {
   "cell_type": "markdown",
   "metadata": {},
   "source": [
    "Prepare data for training"
   ]
  },
  {
   "cell_type": "code",
   "execution_count": 6,
   "metadata": {},
   "outputs": [],
   "source": [
    "train_data = PlannerDataset(train_examples, planner_tokenizer)\n",
    "dev_data = PlannerDataset(dev_examples, planner_tokenizer)"
   ]
  },
  {
   "cell_type": "markdown",
   "metadata": {},
   "source": [
    "Configure training arguments"
   ]
  },
  {
   "cell_type": "code",
   "execution_count": 7,
   "metadata": {},
   "outputs": [],
   "source": [
    "args = TrainingArguments(\n",
    "   f\"neural_planner\",\n",
    "   evaluation_strategy='steps',\n",
    "   eval_steps=500, \n",
    "   save_total_limit=5, \n",
    "   learning_rate=2e-5,\n",
    "   per_device_train_batch_size=4,\n",
    "   per_device_eval_batch_size=4,\n",
    "   num_train_epochs=1,\n",
    "   weight_decay=0.01,\n",
    "   push_to_hub=False\n",
    ")\n",
    "\n",
    "trainer = Trainer(\n",
    "    model=planner,\n",
    "    args=args,\n",
    "    train_dataset=train_data,\n",
    "    eval_dataset=dev_data,\n",
    "    data_collator=T2TDataCollator\n",
    "    )"
   ]
  },
  {
   "cell_type": "markdown",
   "metadata": {},
   "source": [
    "Train"
   ]
  },
  {
   "cell_type": "code",
   "execution_count": null,
   "metadata": {},
   "outputs": [],
   "source": [
    "trainer.train()"
   ]
  },
  {
   "cell_type": "markdown",
   "metadata": {},
   "source": [
    "Example for planner inference"
   ]
  },
  {
   "cell_type": "code",
   "execution_count": 29,
   "metadata": {},
   "outputs": [
    {
     "data": {
      "text/plain": [
       "'S 0 1 2 3'"
      ]
     },
     "execution_count": 29,
     "metadata": {},
     "output_type": "execute_result"
    }
   ],
   "source": [
    "planner.eval()\n",
    "out_ids = planner.generate(dev_data[0]['input_ids'].unsqueeze(0).to(DEVICE))\n",
    "planner_tokenizer.decode(out_ids[0], skip_special_tokens=True)"
   ]
  },
  {
   "cell_type": "markdown",
   "metadata": {},
   "source": [
    "### Realizer\n",
    "Load pretrained model and configure tokenizer"
   ]
  },
  {
   "cell_type": "code",
   "execution_count": 5,
   "metadata": {},
   "outputs": [
    {
     "data": {
      "text/plain": [
       "5"
      ]
     },
     "execution_count": 5,
     "metadata": {},
     "output_type": "execute_result"
    }
   ],
   "source": [
    "realizer = T5ForConditionalGeneration.from_pretrained('t5-base').to(DEVICE)\n",
    "realizer_tokenizer = T5Tokenizer.from_pretrained('t5-base')\n",
    "realizer_tokenizer.add_tokens(['<S>', '<P>', '<P*>', '<O>', '<sentence>'])"
   ]
  },
  {
   "cell_type": "markdown",
   "metadata": {},
   "source": [
    "Prepare data for training"
   ]
  },
  {
   "cell_type": "code",
   "execution_count": 6,
   "metadata": {},
   "outputs": [],
   "source": [
    "train_data = RealizerDataset(train_examples, realizer_tokenizer)\n",
    "dev_data = RealizerDataset(dev_examples, realizer_tokenizer)"
   ]
  },
  {
   "cell_type": "markdown",
   "metadata": {},
   "source": [
    "Configure training arguments"
   ]
  },
  {
   "cell_type": "code",
   "execution_count": 7,
   "metadata": {},
   "outputs": [],
   "source": [
    "args = TrainingArguments(\n",
    "   f\"neural_realizer\",\n",
    "   evaluation_strategy='steps',\n",
    "   eval_steps=500, \n",
    "   save_total_limit=5, \n",
    "   learning_rate=2e-5,\n",
    "   per_device_train_batch_size=2,\n",
    "   per_device_eval_batch_size=2,\n",
    "   num_train_epochs=2,\n",
    "   weight_decay=0.01,\n",
    "   push_to_hub=False\n",
    ")\n",
    "\n",
    "trainer = Trainer(\n",
    "    model=realizer,\n",
    "    args=args,\n",
    "    train_dataset=train_data,\n",
    "    eval_dataset=dev_data,\n",
    "    data_collator=T2TDataCollator \n",
    ")"
   ]
  },
  {
   "cell_type": "markdown",
   "metadata": {},
   "source": [
    "Train"
   ]
  },
  {
   "cell_type": "code",
   "execution_count": 8,
   "metadata": {},
   "outputs": [
    {
     "name": "stderr",
     "output_type": "stream",
     "text": [
      "***** Running training *****\n",
      "  Num examples = 18102\n",
      "  Num Epochs = 2\n",
      "  Instantaneous batch size per device = 2\n",
      "  Total train batch size (w. parallel, distributed & accumulation) = 4\n",
      "  Gradient Accumulation steps = 1\n",
      "  Total optimization steps = 9052\n",
      "/home/research/.conda/envs/royeisen/lib/python3.8/site-packages/torch/nn/parallel/_functions.py:68: UserWarning: Was asked to gather along dimension 0, but all input tensors were scalars; will instead unsqueeze and return a vector.\n",
      "  warnings.warn('Was asked to gather along dimension 0, but all '\n"
     ]
    },
    {
     "data": {
      "text/html": [
       "\n",
       "    <div>\n",
       "      \n",
       "      <progress value='9052' max='9052' style='width:300px; height:20px; vertical-align: middle;'></progress>\n",
       "      [9052/9052 1:36:59, Epoch 2/2]\n",
       "    </div>\n",
       "    <table border=\"1\" class=\"dataframe\">\n",
       "  <thead>\n",
       "    <tr style=\"text-align: left;\">\n",
       "      <th>Step</th>\n",
       "      <th>Training Loss</th>\n",
       "      <th>Validation Loss</th>\n",
       "    </tr>\n",
       "  </thead>\n",
       "  <tbody>\n",
       "    <tr>\n",
       "      <td>500</td>\n",
       "      <td>1.538800</td>\n",
       "      <td>0.983314</td>\n",
       "    </tr>\n",
       "    <tr>\n",
       "      <td>1000</td>\n",
       "      <td>1.066000</td>\n",
       "      <td>0.877459</td>\n",
       "    </tr>\n",
       "    <tr>\n",
       "      <td>1500</td>\n",
       "      <td>0.965900</td>\n",
       "      <td>0.814250</td>\n",
       "    </tr>\n",
       "    <tr>\n",
       "      <td>2000</td>\n",
       "      <td>0.928400</td>\n",
       "      <td>0.779613</td>\n",
       "    </tr>\n",
       "    <tr>\n",
       "      <td>2500</td>\n",
       "      <td>0.865300</td>\n",
       "      <td>0.760631</td>\n",
       "    </tr>\n",
       "    <tr>\n",
       "      <td>3000</td>\n",
       "      <td>0.862000</td>\n",
       "      <td>0.738080</td>\n",
       "    </tr>\n",
       "    <tr>\n",
       "      <td>3500</td>\n",
       "      <td>0.812300</td>\n",
       "      <td>0.727151</td>\n",
       "    </tr>\n",
       "    <tr>\n",
       "      <td>4000</td>\n",
       "      <td>0.829900</td>\n",
       "      <td>0.717078</td>\n",
       "    </tr>\n",
       "    <tr>\n",
       "      <td>4500</td>\n",
       "      <td>0.810100</td>\n",
       "      <td>0.705202</td>\n",
       "    </tr>\n",
       "    <tr>\n",
       "      <td>5000</td>\n",
       "      <td>0.755200</td>\n",
       "      <td>0.697488</td>\n",
       "    </tr>\n",
       "    <tr>\n",
       "      <td>5500</td>\n",
       "      <td>0.763700</td>\n",
       "      <td>0.691984</td>\n",
       "    </tr>\n",
       "    <tr>\n",
       "      <td>6000</td>\n",
       "      <td>0.748400</td>\n",
       "      <td>0.686656</td>\n",
       "    </tr>\n",
       "    <tr>\n",
       "      <td>6500</td>\n",
       "      <td>0.741800</td>\n",
       "      <td>0.680993</td>\n",
       "    </tr>\n",
       "    <tr>\n",
       "      <td>7000</td>\n",
       "      <td>0.751100</td>\n",
       "      <td>0.679809</td>\n",
       "    </tr>\n",
       "    <tr>\n",
       "      <td>7500</td>\n",
       "      <td>0.729700</td>\n",
       "      <td>0.674542</td>\n",
       "    </tr>\n",
       "    <tr>\n",
       "      <td>8000</td>\n",
       "      <td>0.737700</td>\n",
       "      <td>0.672948</td>\n",
       "    </tr>\n",
       "    <tr>\n",
       "      <td>8500</td>\n",
       "      <td>0.745200</td>\n",
       "      <td>0.671780</td>\n",
       "    </tr>\n",
       "    <tr>\n",
       "      <td>9000</td>\n",
       "      <td>0.738200</td>\n",
       "      <td>0.670971</td>\n",
       "    </tr>\n",
       "  </tbody>\n",
       "</table><p>"
      ],
      "text/plain": [
       "<IPython.core.display.HTML object>"
      ]
     },
     "metadata": {},
     "output_type": "display_data"
    },
    {
     "name": "stderr",
     "output_type": "stream",
     "text": [
      "***** Running Evaluation *****\n",
      "  Num examples = 2268\n",
      "  Batch size = 4\n",
      "Saving model checkpoint to neural_realizer/checkpoint-500\n",
      "Configuration saved in neural_realizer/checkpoint-500/config.json\n",
      "Model weights saved in neural_realizer/checkpoint-500/pytorch_model.bin\n",
      "/home/research/.conda/envs/royeisen/lib/python3.8/site-packages/torch/nn/parallel/_functions.py:68: UserWarning: Was asked to gather along dimension 0, but all input tensors were scalars; will instead unsqueeze and return a vector.\n",
      "  warnings.warn('Was asked to gather along dimension 0, but all '\n",
      "***** Running Evaluation *****\n",
      "  Num examples = 2268\n",
      "  Batch size = 4\n",
      "Saving model checkpoint to neural_realizer/checkpoint-1000\n",
      "Configuration saved in neural_realizer/checkpoint-1000/config.json\n",
      "Model weights saved in neural_realizer/checkpoint-1000/pytorch_model.bin\n",
      "/home/research/.conda/envs/royeisen/lib/python3.8/site-packages/torch/nn/parallel/_functions.py:68: UserWarning: Was asked to gather along dimension 0, but all input tensors were scalars; will instead unsqueeze and return a vector.\n",
      "  warnings.warn('Was asked to gather along dimension 0, but all '\n",
      "***** Running Evaluation *****\n",
      "  Num examples = 2268\n",
      "  Batch size = 4\n",
      "Saving model checkpoint to neural_realizer/checkpoint-1500\n",
      "Configuration saved in neural_realizer/checkpoint-1500/config.json\n",
      "Model weights saved in neural_realizer/checkpoint-1500/pytorch_model.bin\n",
      "/home/research/.conda/envs/royeisen/lib/python3.8/site-packages/torch/nn/parallel/_functions.py:68: UserWarning: Was asked to gather along dimension 0, but all input tensors were scalars; will instead unsqueeze and return a vector.\n",
      "  warnings.warn('Was asked to gather along dimension 0, but all '\n",
      "***** Running Evaluation *****\n",
      "  Num examples = 2268\n",
      "  Batch size = 4\n",
      "Saving model checkpoint to neural_realizer/checkpoint-2000\n",
      "Configuration saved in neural_realizer/checkpoint-2000/config.json\n",
      "Model weights saved in neural_realizer/checkpoint-2000/pytorch_model.bin\n",
      "/home/research/.conda/envs/royeisen/lib/python3.8/site-packages/torch/nn/parallel/_functions.py:68: UserWarning: Was asked to gather along dimension 0, but all input tensors were scalars; will instead unsqueeze and return a vector.\n",
      "  warnings.warn('Was asked to gather along dimension 0, but all '\n",
      "***** Running Evaluation *****\n",
      "  Num examples = 2268\n",
      "  Batch size = 4\n",
      "Saving model checkpoint to neural_realizer/checkpoint-2500\n",
      "Configuration saved in neural_realizer/checkpoint-2500/config.json\n",
      "Model weights saved in neural_realizer/checkpoint-2500/pytorch_model.bin\n",
      "/home/research/.conda/envs/royeisen/lib/python3.8/site-packages/torch/nn/parallel/_functions.py:68: UserWarning: Was asked to gather along dimension 0, but all input tensors were scalars; will instead unsqueeze and return a vector.\n",
      "  warnings.warn('Was asked to gather along dimension 0, but all '\n",
      "***** Running Evaluation *****\n",
      "  Num examples = 2268\n",
      "  Batch size = 4\n",
      "Saving model checkpoint to neural_realizer/checkpoint-3000\n",
      "Configuration saved in neural_realizer/checkpoint-3000/config.json\n",
      "Model weights saved in neural_realizer/checkpoint-3000/pytorch_model.bin\n",
      "Deleting older checkpoint [neural_realizer/checkpoint-500] due to args.save_total_limit\n",
      "/home/research/.conda/envs/royeisen/lib/python3.8/site-packages/torch/nn/parallel/_functions.py:68: UserWarning: Was asked to gather along dimension 0, but all input tensors were scalars; will instead unsqueeze and return a vector.\n",
      "  warnings.warn('Was asked to gather along dimension 0, but all '\n",
      "***** Running Evaluation *****\n",
      "  Num examples = 2268\n",
      "  Batch size = 4\n",
      "Saving model checkpoint to neural_realizer/checkpoint-3500\n",
      "Configuration saved in neural_realizer/checkpoint-3500/config.json\n",
      "Model weights saved in neural_realizer/checkpoint-3500/pytorch_model.bin\n",
      "Deleting older checkpoint [neural_realizer/checkpoint-1000] due to args.save_total_limit\n",
      "/home/research/.conda/envs/royeisen/lib/python3.8/site-packages/torch/nn/parallel/_functions.py:68: UserWarning: Was asked to gather along dimension 0, but all input tensors were scalars; will instead unsqueeze and return a vector.\n",
      "  warnings.warn('Was asked to gather along dimension 0, but all '\n",
      "***** Running Evaluation *****\n",
      "  Num examples = 2268\n",
      "  Batch size = 4\n",
      "Saving model checkpoint to neural_realizer/checkpoint-4000\n",
      "Configuration saved in neural_realizer/checkpoint-4000/config.json\n",
      "Model weights saved in neural_realizer/checkpoint-4000/pytorch_model.bin\n",
      "Deleting older checkpoint [neural_realizer/checkpoint-1500] due to args.save_total_limit\n",
      "/home/research/.conda/envs/royeisen/lib/python3.8/site-packages/torch/nn/parallel/_functions.py:68: UserWarning: Was asked to gather along dimension 0, but all input tensors were scalars; will instead unsqueeze and return a vector.\n",
      "  warnings.warn('Was asked to gather along dimension 0, but all '\n",
      "***** Running Evaluation *****\n",
      "  Num examples = 2268\n",
      "  Batch size = 4\n",
      "Saving model checkpoint to neural_realizer/checkpoint-4500\n",
      "Configuration saved in neural_realizer/checkpoint-4500/config.json\n",
      "Model weights saved in neural_realizer/checkpoint-4500/pytorch_model.bin\n",
      "Deleting older checkpoint [neural_realizer/checkpoint-2000] due to args.save_total_limit\n",
      "/home/research/.conda/envs/royeisen/lib/python3.8/site-packages/torch/nn/parallel/_functions.py:68: UserWarning: Was asked to gather along dimension 0, but all input tensors were scalars; will instead unsqueeze and return a vector.\n",
      "  warnings.warn('Was asked to gather along dimension 0, but all '\n",
      "***** Running Evaluation *****\n",
      "  Num examples = 2268\n",
      "  Batch size = 4\n",
      "Saving model checkpoint to neural_realizer/checkpoint-5000\n",
      "Configuration saved in neural_realizer/checkpoint-5000/config.json\n",
      "Model weights saved in neural_realizer/checkpoint-5000/pytorch_model.bin\n",
      "Deleting older checkpoint [neural_realizer/checkpoint-2500] due to args.save_total_limit\n",
      "/home/research/.conda/envs/royeisen/lib/python3.8/site-packages/torch/nn/parallel/_functions.py:68: UserWarning: Was asked to gather along dimension 0, but all input tensors were scalars; will instead unsqueeze and return a vector.\n",
      "  warnings.warn('Was asked to gather along dimension 0, but all '\n",
      "***** Running Evaluation *****\n",
      "  Num examples = 2268\n",
      "  Batch size = 4\n",
      "Saving model checkpoint to neural_realizer/checkpoint-5500\n",
      "Configuration saved in neural_realizer/checkpoint-5500/config.json\n",
      "Model weights saved in neural_realizer/checkpoint-5500/pytorch_model.bin\n",
      "Deleting older checkpoint [neural_realizer/checkpoint-3000] due to args.save_total_limit\n",
      "/home/research/.conda/envs/royeisen/lib/python3.8/site-packages/torch/nn/parallel/_functions.py:68: UserWarning: Was asked to gather along dimension 0, but all input tensors were scalars; will instead unsqueeze and return a vector.\n",
      "  warnings.warn('Was asked to gather along dimension 0, but all '\n",
      "***** Running Evaluation *****\n",
      "  Num examples = 2268\n",
      "  Batch size = 4\n",
      "Saving model checkpoint to neural_realizer/checkpoint-6000\n",
      "Configuration saved in neural_realizer/checkpoint-6000/config.json\n",
      "Model weights saved in neural_realizer/checkpoint-6000/pytorch_model.bin\n",
      "Deleting older checkpoint [neural_realizer/checkpoint-3500] due to args.save_total_limit\n",
      "/home/research/.conda/envs/royeisen/lib/python3.8/site-packages/torch/nn/parallel/_functions.py:68: UserWarning: Was asked to gather along dimension 0, but all input tensors were scalars; will instead unsqueeze and return a vector.\n",
      "  warnings.warn('Was asked to gather along dimension 0, but all '\n",
      "***** Running Evaluation *****\n",
      "  Num examples = 2268\n",
      "  Batch size = 4\n",
      "Saving model checkpoint to neural_realizer/checkpoint-6500\n",
      "Configuration saved in neural_realizer/checkpoint-6500/config.json\n",
      "Model weights saved in neural_realizer/checkpoint-6500/pytorch_model.bin\n",
      "Deleting older checkpoint [neural_realizer/checkpoint-4000] due to args.save_total_limit\n",
      "/home/research/.conda/envs/royeisen/lib/python3.8/site-packages/torch/nn/parallel/_functions.py:68: UserWarning: Was asked to gather along dimension 0, but all input tensors were scalars; will instead unsqueeze and return a vector.\n",
      "  warnings.warn('Was asked to gather along dimension 0, but all '\n",
      "***** Running Evaluation *****\n",
      "  Num examples = 2268\n",
      "  Batch size = 4\n",
      "Saving model checkpoint to neural_realizer/checkpoint-7000\n",
      "Configuration saved in neural_realizer/checkpoint-7000/config.json\n",
      "Model weights saved in neural_realizer/checkpoint-7000/pytorch_model.bin\n",
      "Deleting older checkpoint [neural_realizer/checkpoint-4500] due to args.save_total_limit\n",
      "/home/research/.conda/envs/royeisen/lib/python3.8/site-packages/torch/nn/parallel/_functions.py:68: UserWarning: Was asked to gather along dimension 0, but all input tensors were scalars; will instead unsqueeze and return a vector.\n",
      "  warnings.warn('Was asked to gather along dimension 0, but all '\n",
      "***** Running Evaluation *****\n",
      "  Num examples = 2268\n",
      "  Batch size = 4\n",
      "Saving model checkpoint to neural_realizer/checkpoint-7500\n",
      "Configuration saved in neural_realizer/checkpoint-7500/config.json\n",
      "Model weights saved in neural_realizer/checkpoint-7500/pytorch_model.bin\n",
      "Deleting older checkpoint [neural_realizer/checkpoint-5000] due to args.save_total_limit\n",
      "/home/research/.conda/envs/royeisen/lib/python3.8/site-packages/torch/nn/parallel/_functions.py:68: UserWarning: Was asked to gather along dimension 0, but all input tensors were scalars; will instead unsqueeze and return a vector.\n",
      "  warnings.warn('Was asked to gather along dimension 0, but all '\n",
      "***** Running Evaluation *****\n",
      "  Num examples = 2268\n",
      "  Batch size = 4\n",
      "Saving model checkpoint to neural_realizer/checkpoint-8000\n",
      "Configuration saved in neural_realizer/checkpoint-8000/config.json\n",
      "Model weights saved in neural_realizer/checkpoint-8000/pytorch_model.bin\n",
      "Deleting older checkpoint [neural_realizer/checkpoint-5500] due to args.save_total_limit\n",
      "/home/research/.conda/envs/royeisen/lib/python3.8/site-packages/torch/nn/parallel/_functions.py:68: UserWarning: Was asked to gather along dimension 0, but all input tensors were scalars; will instead unsqueeze and return a vector.\n",
      "  warnings.warn('Was asked to gather along dimension 0, but all '\n",
      "***** Running Evaluation *****\n",
      "  Num examples = 2268\n",
      "  Batch size = 4\n",
      "Saving model checkpoint to neural_realizer/checkpoint-8500\n",
      "Configuration saved in neural_realizer/checkpoint-8500/config.json\n",
      "Model weights saved in neural_realizer/checkpoint-8500/pytorch_model.bin\n",
      "Deleting older checkpoint [neural_realizer/checkpoint-6000] due to args.save_total_limit\n",
      "/home/research/.conda/envs/royeisen/lib/python3.8/site-packages/torch/nn/parallel/_functions.py:68: UserWarning: Was asked to gather along dimension 0, but all input tensors were scalars; will instead unsqueeze and return a vector.\n",
      "  warnings.warn('Was asked to gather along dimension 0, but all '\n",
      "***** Running Evaluation *****\n",
      "  Num examples = 2268\n",
      "  Batch size = 4\n",
      "Saving model checkpoint to neural_realizer/checkpoint-9000\n",
      "Configuration saved in neural_realizer/checkpoint-9000/config.json\n",
      "Model weights saved in neural_realizer/checkpoint-9000/pytorch_model.bin\n",
      "Deleting older checkpoint [neural_realizer/checkpoint-6500] due to args.save_total_limit\n",
      "/home/research/.conda/envs/royeisen/lib/python3.8/site-packages/torch/nn/parallel/_functions.py:68: UserWarning: Was asked to gather along dimension 0, but all input tensors were scalars; will instead unsqueeze and return a vector.\n",
      "  warnings.warn('Was asked to gather along dimension 0, but all '\n",
      "\n",
      "\n",
      "Training completed. Do not forget to share your model on huggingface.co/models =)\n",
      "\n",
      "\n"
     ]
    },
    {
     "data": {
      "text/plain": [
       "TrainOutput(global_step=9052, training_loss=0.8541778508825635, metrics={'train_runtime': 5822.8382, 'train_samples_per_second': 6.218, 'train_steps_per_second': 1.555, 'total_flos': 1.020521605146624e+16, 'train_loss': 0.8541778508825635, 'epoch': 2.0})"
      ]
     },
     "execution_count": 8,
     "metadata": {},
     "output_type": "execute_result"
    }
   ],
   "source": [
    "trainer.train()"
   ]
  },
  {
   "cell_type": "markdown",
   "metadata": {},
   "source": [
    "Example for realizer inference"
   ]
  },
  {
   "cell_type": "code",
   "execution_count": 18,
   "metadata": {},
   "outputs": [
    {
     "data": {
      "text/plain": [
       "'Tim Brooke-Taylor starred in Bananaman which was broadcast by STV on October 3, 1983. It was created by Steve Bright.'"
      ]
     },
     "execution_count": 18,
     "metadata": {},
     "output_type": "execute_result"
    }
   ],
   "source": [
    "realizer.eval()\n",
    "out_ids = realizer.generate(dev_data[0]['input_ids'].unsqueeze(0).to(DEVICE), max_length=64)\n",
    "realizer_tokenizer.decode(out_ids[0], skip_special_tokens=True)"
   ]
  }
 ],
 "metadata": {
  "interpreter": {
   "hash": "6446c4b7b48a9f3986e8fba403385740f24707d3d6d1bf530acfddf74f3ff178"
  },
  "kernelspec": {
   "display_name": "Python 3.8.11 64-bit ('royeisen': conda)",
   "language": "python",
   "name": "python3"
  },
  "language_info": {
   "codemirror_mode": {
    "name": "ipython",
    "version": 3
   },
   "file_extension": ".py",
   "mimetype": "text/x-python",
   "name": "python",
   "nbconvert_exporter": "python",
   "pygments_lexer": "ipython3",
   "version": "3.8.11"
  },
  "orig_nbformat": 4
 },
 "nbformat": 4,
 "nbformat_minor": 2
}
