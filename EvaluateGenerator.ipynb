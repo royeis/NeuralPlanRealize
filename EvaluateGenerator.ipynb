{
 "cells": [
  {
   "cell_type": "code",
   "execution_count": 1,
   "metadata": {},
   "outputs": [],
   "source": [
    "import torch\n",
    "from PlanRealizeGenerator import PlanRealizeGenerator\n",
    "from WebNLGDatasetReader import Benchmark, select_test_files\n",
    "from Utils import webnlg_entry_to_examples, validate_plan\n",
    "from tqdm import tqdm\n",
    "\n",
    "DEVICE = 'cuda' if torch.cuda.is_available() else 'cpu'"
   ]
  },
  {
   "cell_type": "markdown",
   "metadata": {},
   "source": [
    "Prepare test data"
   ]
  },
  {
   "cell_type": "code",
   "execution_count": 2,
   "metadata": {},
   "outputs": [],
   "source": [
    "b = Benchmark()\n",
    "files = select_test_files('webnlg_v3/en/test')\n",
    "b.fill_benchmark(files)\n",
    "\n",
    "test_examples = []\n",
    "for entry in b.entries:\n",
    "    test_examples.extend(webnlg_entry_to_examples(entry))"
   ]
  },
  {
   "cell_type": "code",
   "execution_count": 3,
   "metadata": {},
   "outputs": [
    {
     "data": {
      "text/plain": [
       "{'category': 'SportsTeam',\n",
       " 'eid': 'Id1',\n",
       " 'size': '5',\n",
       " 'triples_map': {0: '<S> Estádio_Municipal_Coaracy_da_Mata_Fonseca <P> location <O> Arapiraca',\n",
       "  1: '<S> Agremiação_Sportiva_Arapiraquense <P> league <O> Campeonato_Brasileiro_Série_C',\n",
       "  2: '<S> Campeonato_Brasileiro_Série_C <P> country <O> Brazil',\n",
       "  3: '<S> Agremiação_Sportiva_Arapiraquense <P> nickname <O> \"\\'\\'Alvinegro\"',\n",
       "  4: '<S> Agremiação_Sportiva_Arapiraquense <P> ground <O> Estádio_Municipal_Coaracy_da_Mata_Fonseca'},\n",
       " 'input': '<S> Estádio_Municipal_Coaracy_da_Mata_Fonseca <P> location <O> Arapiraca <S> Agremiação_Sportiva_Arapiraquense <P> league <O> Campeonato_Brasileiro_Série_C <S> Campeonato_Brasileiro_Série_C <P> country <O> Brazil <S> Agremiação_Sportiva_Arapiraquense <P> nickname <O> \"\\'\\'Alvinegro\" <S> Agremiação_Sportiva_Arapiraquense <P> ground <O> Estádio_Municipal_Coaracy_da_Mata_Fonseca',\n",
       " 'lid': 'Id1',\n",
       " 'text': 'Estádio Municipal Coaracy da Mata Fonseca is the name of the ground of Agremiação Sportiva Arapiraquense in Arapiraca. Agremiação Sportiva Arapiraquense, nicknamed \"Alvinegro\", lay in the Campeonato Brasileiro Série C league from Brazil.'}"
      ]
     },
     "execution_count": 3,
     "metadata": {},
     "output_type": "execute_result"
    }
   ],
   "source": [
    "test_examples[0]"
   ]
  },
  {
   "cell_type": "markdown",
   "metadata": {},
   "source": [
    "Load plan-realize model"
   ]
  },
  {
   "cell_type": "code",
   "execution_count": 3,
   "metadata": {},
   "outputs": [],
   "source": [
    "model = PlanRealizeGenerator(planner_path='planner', realizer_path='royeis/t5-realizer')\n",
    "model.plan_mode()"
   ]
  },
  {
   "cell_type": "code",
   "execution_count": 4,
   "metadata": {},
   "outputs": [
    {
     "name": "stderr",
     "output_type": "stream",
     "text": [
      "100%|██████████| 5150/5150 [04:07<00:00, 20.84it/s]\n"
     ]
    }
   ],
   "source": [
    "outputs = []\n",
    "prev_eid = -1\n",
    "\n",
    "for e in tqdm(test_examples):\n",
    "    eid = e['eid']\n",
    "    if prev_eid == eid:\n",
    "        continue\n",
    "    \n",
    "    outputs.append({'eid': eid, 'plan': model.generate_plan(e)})\n",
    "    prev_eid = eid"
   ]
  },
  {
   "cell_type": "code",
   "execution_count": 12,
   "metadata": {},
   "outputs": [
    {
     "data": {
      "text/plain": [
       "{'eid': 'Id56',\n",
       " 'plan': '<sentence> <S> Nord_(Year_of_No_Light_album) <P> followedBy <O> Live_at_Roadburn_<S> Nord_(Year_of_No_Light_album) <P> releaseDate <O> 2006-09-06008_(Year_of_No_Light_album) <S> Nord_(Year_of_No_Light_album) <P> runtime <O> 58.<S> Nord_(Year_of_No_Light_album) <P> precededBy <O> Demo_2004_(Year_of_No_Light_album)1 <sentence> <S> Nord_(Year_of_No_Light_album) <P> precededBy <O> Demo_2004_(Year_of_No_Light_album) <S> Nord_(Year_of_No_Light_album) <P> artist <O> Year_of_No_Light <sentence> <S> Nord_(Year_of_No_Light_album) <P> releaseDate <O> 2006-09-06'}"
      ]
     },
     "execution_count": 12,
     "metadata": {},
     "output_type": "execute_result"
    }
   ],
   "source": [
    "outputs[55]"
   ]
  },
  {
   "cell_type": "code",
   "execution_count": null,
   "metadata": {},
   "outputs": [],
   "source": [
    "model.realize_mode()\n",
    "for o in tqdm(outputs):\n",
    "    o['generation'] = model.generate_realization(o['plan'])"
   ]
  },
  {
   "cell_type": "code",
   "execution_count": 15,
   "metadata": {},
   "outputs": [
    {
     "name": "stderr",
     "output_type": "stream",
     "text": [
      "  3%|▎         | 164/5150 [00:08<04:56, 16.83it/s]"
     ]
    }
   ],
   "source": [
    "n_i = 0\n",
    "n_e = 0\n",
    "n_f = 0\n",
    "prev_eid = -1\n",
    "for e in tqdm(test_examples):\n",
    "    eid = e['eid']\n",
    "    if prev_eid == eid:\n",
    "        continue\n",
    "    \n",
    "    n_i += 1\n",
    "    prev_eid = eid\n",
    "    size = int(e['size'])\n",
    "    plan = model._plan(e['input'])\n",
    "    v_plan = model._validate_plan(plan, size)\n",
    "    if v_plan != plan:\n",
    "        print(f'plan: {plan}')\n",
    "        print(f'fixed plan: {v_plan}')\n",
    "        n_f += 1\n",
    "\n",
    "    if not validate_plan(v_plan, size):\n",
    "        print(plan)\n",
    "        print(v_plan, size)\n",
    "        n_e += 1"
   ]
  },
  {
   "cell_type": "code",
   "execution_count": 11,
   "metadata": {},
   "outputs": [
    {
     "data": {
      "text/plain": [
       "1779"
      ]
     },
     "execution_count": 11,
     "metadata": {},
     "output_type": "execute_result"
    }
   ],
   "source": [
    "n_i"
   ]
  },
  {
   "cell_type": "code",
   "execution_count": 15,
   "metadata": {},
   "outputs": [],
   "source": [
    "from transformers import T5ForConditionalGeneration, T5Tokenizer"
   ]
  },
  {
   "cell_type": "code",
   "execution_count": 21,
   "metadata": {},
   "outputs": [],
   "source": [
    "planner = T5ForConditionalGeneration.from_pretrained('royeis/T5-FlowNLG-Planner').to(DEVICE)\n",
    "tokenizer = T5Tokenizer.from_pretrained('t5-base')\n",
    "# tokenizer.add_tokens(['<S>', '<P>', '<O>'])"
   ]
  },
  {
   "cell_type": "code",
   "execution_count": 22,
   "metadata": {},
   "outputs": [
    {
     "name": "stderr",
     "output_type": "stream",
     "text": [
      "100%|██████████| 4928/4928 [03:59<00:00, 20.62it/s]\n"
     ]
    }
   ],
   "source": [
    "n_i = 0\n",
    "n_e = 0\n",
    "prev_eid = -1\n",
    "for e in tqdm(test_examples):\n",
    "    eid = e['eid']\n",
    "    if prev_eid == eid:\n",
    "        continue\n",
    "    \n",
    "    n_i += 1\n",
    "    prev_eid = eid\n",
    "    size = int(e['size'])\n",
    "    input_ids = tokenizer(e['planner_input'], return_tensors='pt').to(DEVICE)\n",
    "    out = planner.generate(**input_ids)\n",
    "    plan = tokenizer.decode(out[0], skip_special_tokens=True)\n",
    "    if not validate_plan(plan, size):\n",
    "        # print(plan, size)\n",
    "        n_e += 1"
   ]
  },
  {
   "cell_type": "code",
   "execution_count": 24,
   "metadata": {},
   "outputs": [
    {
     "data": {
      "text/plain": [
       "1862"
      ]
     },
     "execution_count": 24,
     "metadata": {},
     "output_type": "execute_result"
    }
   ],
   "source": [
    "n_i"
   ]
  },
  {
   "cell_type": "code",
   "execution_count": null,
   "metadata": {},
   "outputs": [],
   "source": []
  }
 ],
 "metadata": {
  "interpreter": {
   "hash": "6446c4b7b48a9f3986e8fba403385740f24707d3d6d1bf530acfddf74f3ff178"
  },
  "kernelspec": {
   "display_name": "Python 3.8.11 64-bit ('royeisen': conda)",
   "language": "python",
   "name": "python3"
  },
  "language_info": {
   "codemirror_mode": {
    "name": "ipython",
    "version": 3
   },
   "file_extension": ".py",
   "mimetype": "text/x-python",
   "name": "python",
   "nbconvert_exporter": "python",
   "pygments_lexer": "ipython3",
   "version": "3.8.11"
  },
  "orig_nbformat": 4
 },
 "nbformat": 4,
 "nbformat_minor": 2
}
